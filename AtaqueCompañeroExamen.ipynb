{
 "cells": [
  {
   "cell_type": "markdown",
   "id": "9857b946-3f8a-4d1b-a603-3a2d54e54609",
   "metadata": {},
   "source": [
    "## Ataco a mi compañero!!!"
   ]
  },
  {
   "cell_type": "code",
   "execution_count": 1,
   "id": "19e45801-23aa-4dfc-97b5-58550c9443df",
   "metadata": {},
   "outputs": [],
   "source": [
    "import threading, os, platform, requests, json"
   ]
  },
  {
   "cell_type": "code",
   "execution_count": 2,
   "id": "9111ab99-26c1-486e-8325-25e741b59e43",
   "metadata": {},
   "outputs": [],
   "source": [
    "numero_de_veces_que_ataco = 100"
   ]
  },
  {
   "cell_type": "code",
   "execution_count": 18,
   "id": "bc76c526-d0d9-482f-a256-7527cf58f1d5",
   "metadata": {},
   "outputs": [],
   "source": [
    "direccion_git =\"https://github.com/vegunchy/PCyD22131885\""
   ]
  },
  {
   "cell_type": "code",
   "execution_count": 19,
   "id": "ceb6455c-2250-42dc-9e0f-60472feb9d26",
   "metadata": {},
   "outputs": [],
   "source": [
    "def matar_compañero():\n",
    "    print(requests.get(direccion_git))\n",
    "    threading.current_thread()"
   ]
  },
  {
   "cell_type": "code",
   "execution_count": 20,
   "id": "7ec7c2fc-e25a-4990-9383-9a97d2a773ef",
   "metadata": {},
   "outputs": [
    {
     "name": "stdout",
     "output_type": "stream",
     "text": [
      "<Response [200]>\n",
      "<Response [200]>\n",
      "<Response [200]>\n",
      "<Response [200]>\n",
      "<Response [200]>\n",
      "<Response [200]>\n",
      "<Response [200]>\n",
      "<Response [200]>\n",
      "<Response [200]>\n",
      "<Response [200]>\n",
      "<Response [200]>\n",
      "<Response [200]>\n",
      "<Response [200]>\n",
      "<Response [200]>\n",
      "<Response [200]>\n",
      "<Response [200]>\n",
      "<Response [200]>\n",
      "<Response [200]>\n",
      "<Response [200]>\n",
      "<Response [200]>\n",
      "<Response [200]>\n",
      "<Response [200]>\n",
      "<Response [200]>\n",
      "<Response [200]>\n",
      "<Response [200]>\n",
      "<Response [200]>\n",
      "<Response [200]>\n",
      "<Response [200]>\n",
      "<Response [200]>\n",
      "<Response [200]>\n",
      "<Response [200]>\n",
      "<Response [200]>\n",
      "<Response [200]>\n",
      "<Response [200]>\n",
      "<Response [200]>\n",
      "<Response [200]>\n",
      "<Response [200]>\n",
      "<Response [200]>\n",
      "<Response [200]>\n",
      "<Response [200]>\n",
      "<Response [200]>\n",
      "<Response [200]>\n",
      "<Response [200]>\n",
      "<Response [200]>\n",
      "<Response [200]>\n",
      "<Response [200]>\n",
      "<Response [200]>\n",
      "<Response [200]>\n",
      "<Response [200]>\n",
      "<Response [200]>\n",
      "<Response [200]>\n",
      "<Response [200]>\n",
      "<Response [200]>\n",
      "<Response [200]>\n",
      "<Response [200]>\n",
      "<Response [200]>\n",
      "<Response [200]>\n",
      "<Response [200]>\n",
      "<Response [200]>\n",
      "<Response [200]>\n",
      "<Response [200]>\n",
      "<Response [200]>\n",
      "<Response [200]>\n",
      "<Response [200]>\n",
      "<Response [200]>\n",
      "<Response [200]>\n",
      "<Response [200]>\n",
      "<Response [200]>\n",
      "<Response [200]>\n",
      "<Response [200]>\n",
      "<Response [200]>\n",
      "<Response [200]>\n",
      "<Response [200]>\n",
      "<Response [200]>\n",
      "<Response [200]>\n",
      "<Response [200]>\n",
      "<Response [200]>\n",
      "<Response [200]>\n",
      "<Response [200]>\n",
      "<Response [200]>\n",
      "<Response [200]>\n",
      "<Response [200]>\n",
      "<Response [200]>\n",
      "<Response [200]>\n",
      "<Response [200]>\n",
      "<Response [200]>\n",
      "<Response [200]>\n",
      "<Response [200]>\n",
      "<Response [200]>\n",
      "<Response [200]>\n",
      "<Response [200]>\n",
      "<Response [200]>\n",
      "<Response [200]>\n",
      "<Response [200]>\n",
      "<Response [200]>\n",
      "<Response [200]>\n",
      "<Response [200]>\n",
      "<Response [200]>\n",
      "<Response [200]>\n",
      "<Response [200]>\n"
     ]
    }
   ],
   "source": [
    "for i in range(numero_de_veces_que_ataco):\n",
    "    threading.Thread(target=matar_compañero()).start()"
   ]
  },
  {
   "cell_type": "code",
   "execution_count": null,
   "id": "525ca35b-6977-47ed-86a5-366321aa050c",
   "metadata": {},
   "outputs": [],
   "source": []
  }
 ],
 "metadata": {
  "kernelspec": {
   "display_name": "Python 3 (ipykernel)",
   "language": "python",
   "name": "python3"
  },
  "language_info": {
   "codemirror_mode": {
    "name": "ipython",
    "version": 3
   },
   "file_extension": ".py",
   "mimetype": "text/x-python",
   "name": "python",
   "nbconvert_exporter": "python",
   "pygments_lexer": "ipython3",
   "version": "3.10.7"
  }
 },
 "nbformat": 4,
 "nbformat_minor": 5
}
