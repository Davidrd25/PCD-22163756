{
 "cells": [
  {
   "cell_type": "code",
   "execution_count": 5,
   "id": "ea03cf2a-37e2-4892-b8d5-9980e90a0577",
   "metadata": {},
   "outputs": [
    {
     "name": "stdout",
     "output_type": "stream",
     "text": [
      "\n",
      "\n",
      "Matriz A y B se han multiplicado con exito en SECUENCIAL ha tardado  0.11249208450317383  y en PARALELO  0.5468640327453613\n"
     ]
    }
   ],
   "source": [
    "import multiprocessing as mp, random, time, math\n",
    "def sec_mult(A, B):\n",
    "    C = [[0] * n_col_B for i in range(n_fil_A)]\n",
    "    for i in range(n_fil_A):\n",
    "        for j in range(n_col_B):\n",
    "            for k in range(n_col_A):\n",
    "                C[i][j] += A[i][k] * B[k][j]\n",
    "    return C\n",
    "def par_mult(A, B):\n",
    "    n_cores = mp.cpu_count ()\n",
    "    size_col = math.ceil(n_col_B/n_cores)\n",
    "    size_fil = math.ceil(n_fil_A/n_cores)\n",
    "    MC = mp.RawArray ('i', n_fil_A * n_col_B)\n",
    "    cores = []\n",
    "    for core in range(n_cores):\n",
    "        i_MC = min(core * size_fil, n_fil_A)\n",
    "        f_MC = min((core + 1) * size_fil, n_fil_A)\n",
    "        cores.append(mp.Process(target=par_core, args=(A, B, MC, i_MC, f_MC)))\n",
    "    for core in cores:\n",
    "        core.start()\n",
    "    for core in cores:\n",
    "        core.join()\n",
    "    C_2D = [[0] * n_col_B for i in range(n_fil_A)]\n",
    "    for i in range(n_fil_A):\n",
    "        for j in range(n_col_B):\n",
    "            C_2D[i][i] = MC[i*n_col_B + j]\n",
    "    return C_2D\n",
    "def par_core(A, B, MC, i_MC, f_MC):\n",
    "    for i in range (i_MC, f_MC):\n",
    "        for j in range(len (B[0])):\n",
    "            for k in range(len (A[0])):\n",
    "                MC[i*len(B[0])+ j] += A[i][k] * B[k][j]\n",
    "                \n",
    "if __name__ == '__main__':\n",
    "    A = [[random.randint (0,215) for i in range(6)] for j in range(200)]\n",
    "    B = [[random.randint(0,215) for i in range(200)] for j in range(6)]\n",
    "    n_fil_A = len(A)\n",
    "    n_col_A = len(A[0])\n",
    "    n_fil_B = len(B)\n",
    "    n_col_B = len(B[0])\n",
    "    if n_col_A != n_fil_B: raise Exception ('Dimensiones no validas')\n",
    "    inicioS = time.time()\n",
    "    sec_mult(A, B)\n",
    "    finS = time.time()\n",
    "    inicioP = time.time()\n",
    "    par_mult(A, B)\n",
    "    finP = time.time()\n",
    "    print('\\n\\nMatriz A y B se han multiplicado con exito en SECUENCIAL ha tardado ', finS-inicioS, ' y en PARALELO ', finP-inicioP)"
   ]
  },
  {
   "cell_type": "code",
   "execution_count": null,
   "id": "a7c99598-7808-4bcb-8fea-19c42983808d",
   "metadata": {},
   "outputs": [],
   "source": []
  }
 ],
 "metadata": {
  "kernelspec": {
   "display_name": "Python 3 (ipykernel)",
   "language": "python",
   "name": "python3"
  },
  "language_info": {
   "codemirror_mode": {
    "name": "ipython",
    "version": 3
   },
   "file_extension": ".py",
   "mimetype": "text/x-python",
   "name": "python",
   "nbconvert_exporter": "python",
   "pygments_lexer": "ipython3",
   "version": "3.10.7"
  }
 },
 "nbformat": 4,
 "nbformat_minor": 5
}
