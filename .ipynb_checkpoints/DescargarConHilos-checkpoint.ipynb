{
 "cells": [
  {
   "cell_type": "markdown",
   "id": "6818e03f-a496-4302-8cdf-eabefc016259",
   "metadata": {},
   "source": [
    "## Descargar con hilos"
   ]
  },
  {
   "cell_type": "code",
   "execution_count": 6,
   "id": "b569c551-b416-490d-a0f1-50219e9eda12",
   "metadata": {},
   "outputs": [],
   "source": [
    "import time, urllib.request, multiprocessing as mp, concurrent.futures"
   ]
  },
  {
   "cell_type": "code",
   "execution_count": 21,
   "id": "6dc7e814-220d-4d74-b1ac-0afbf89fe3f2",
   "metadata": {},
   "outputs": [],
   "source": [
    "def seq_download_images(img_numbers):\n",
    "    total_bytes = 0\n",
    "    for num in img_numbers:\n",
    "        total_bytes += _download_image(num)\n",
    "    return total_bytes"
   ]
  },
  {
   "cell_type": "code",
   "execution_count": 9,
   "id": "b597b97b-db2c-4182-be22-409a1dd4ad8a",
   "metadata": {},
   "outputs": [],
   "source": [
    "def _download_image(image_number):\n",
    "    print(image_number)\n",
    "    image_url = 'http://699340.youcanlearnit.net/image{:03d}.jpg'.format(image_number)\n",
    "    try:\n",
    "        with urllib.request.urlopen(image_url, timeout=60) as conn:\n",
    "            return len(conn.read())\n",
    "    except urllib.error.HTTPError:\n",
    "            print('Oh god', image_number)\n",
    "    except Exception as e:\n",
    "            print (e)"
   ]
  },
  {
   "cell_type": "code",
   "execution_count": 3,
   "id": "c482ac15-4dbc-4ef5-a586-54cba3662b74",
   "metadata": {},
   "outputs": [],
   "source": [
    "def par_download_images(image_numbers):\n",
    "    total_bytes = 0\n",
    "    with concurrent.futures.ThreadPoolExecutor() as pool:\n",
    "        futures = [pool.submit(_download_image, num) for num in image_numbers]\n",
    "        for f in concurrent.futures.as_completed(futures):\n",
    "            total_bytes += f.result()\n",
    "    return total_bytes"
   ]
  },
  {
   "cell_type": "code",
   "execution_count": 23,
   "id": "df9d6dc0-1b65-4dcd-971f-73d20ead72b6",
   "metadata": {},
   "outputs": [
    {
     "name": "stdout",
     "output_type": "stream",
     "text": [
      "1\n",
      "2\n",
      "3\n",
      "0\n",
      "1\n",
      "2\n",
      "3\n",
      "1\n",
      "1\n",
      "2\n",
      "3\n",
      "2\n",
      "1\n",
      "2\n",
      "3\n",
      "1\n",
      "2\n",
      "3\n",
      "1\n",
      "2\n",
      "3\n",
      "1\n",
      "2\n",
      "3\n",
      "1\n",
      "2\n",
      "3\n",
      "Average Sequential Time: 3445.43ms\n",
      "Average Paralle Time: 3445.43ms\n",
      "Speedup: 2.67\n",
      "Efficiency: 33.39%\n"
     ]
    }
   ],
   "source": [
    "if __name__ == '__main__':\n",
    "    NUM_EVAL_RUNS = 3\n",
    "    IMAGE_NUMBERS = list(range(1,4))\n",
    "    sequential_result = seq_download_images(IMAGE_NUMBERS)\n",
    "    sequential_time = 0\n",
    "    for i in range(NUM_EVAL_RUNS):\n",
    "        print(i)\n",
    "        start = time.perf_counter()\n",
    "        seq_download_images(IMAGE_NUMBERS)\n",
    "        sequential_time += time.perf_counter() - start\n",
    "    sequential_time /= NUM_EVAL_RUNS\n",
    "    parallel_result = par_download_images(IMAGE_NUMBERS)\n",
    "    parallel_time = 0\n",
    "    for i in range (NUM_EVAL_RUNS):\n",
    "        start = time.perf_counter()\n",
    "        par_download_images(IMAGE_NUMBERS)\n",
    "        parallel_time += time.perf_counter() - start\n",
    "    parallel_time /= NUM_EVAL_RUNS\n",
    "    \n",
    "    if sequential_result != parallel_result:\n",
    "        raise Exception('sequential_result and parallel_result do not match.')\n",
    "    print('Average Sequential Time: {:.2f}ms'.format(sequential_time*1000))\n",
    "    print('Average Paralle Time: {:.2f}ms'.format(sequential_time*1000))\n",
    "    print('Speedup: {:.2f}'.format(sequential_time/parallel_time))\n",
    "    print('Efficiency: {:.2f}%'.format(100*(sequential_time/parallel_time)/mp.cpu_count()))"
   ]
  },
  {
   "cell_type": "code",
   "execution_count": null,
   "id": "9f311a11-6045-4c68-b5d7-cb4cb527c87d",
   "metadata": {},
   "outputs": [],
   "source": []
  }
 ],
 "metadata": {
  "kernelspec": {
   "display_name": "Python 3 (ipykernel)",
   "language": "python",
   "name": "python3"
  },
  "language_info": {
   "codemirror_mode": {
    "name": "ipython",
    "version": 3
   },
   "file_extension": ".py",
   "mimetype": "text/x-python",
   "name": "python",
   "nbconvert_exporter": "python",
   "pygments_lexer": "ipython3",
   "version": "3.10.7"
  }
 },
 "nbformat": 4,
 "nbformat_minor": 5
}
