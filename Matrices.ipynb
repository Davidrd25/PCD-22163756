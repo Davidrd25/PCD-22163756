{
 "cells": [
  {
   "cell_type": "markdown",
   "id": "35c12137-830b-478d-8b1c-11e405b727ff",
   "metadata": {},
   "source": [
    "## 25 de Octubre"
   ]
  },
  {
   "cell_type": "code",
   "execution_count": 2,
   "id": "ee0af6c3-55b3-4785-929c-6a1b0bbfd403",
   "metadata": {},
   "outputs": [],
   "source": [
    "import random"
   ]
  },
  {
   "cell_type": "code",
   "execution_count": 3,
   "id": "41ac95c7-397a-442a-b5ee-88cef7eea3eb",
   "metadata": {},
   "outputs": [],
   "source": [
    "import math"
   ]
  },
  {
   "cell_type": "code",
   "execution_count": 4,
   "id": "f85cebde-d83c-4cfc-8def-6576d9a9cd2d",
   "metadata": {},
   "outputs": [],
   "source": [
    "import multiprocessing as mp"
   ]
  },
  {
   "cell_type": "code",
   "execution_count": 5,
   "id": "6f1c00cd-7727-478f-981b-e0028a81cfb9",
   "metadata": {},
   "outputs": [],
   "source": [
    "import time"
   ]
  },
  {
   "cell_type": "code",
   "execution_count": 6,
   "id": "d3f08917-be77-4123-abdb-f7704fddc7a0",
   "metadata": {},
   "outputs": [],
   "source": [
    "def sec_mult(A, B):\n",
    "        C = [[0] * n_col_B for i in range(n_fil_A)]\n",
    "        for i in range(n_fil_A):\n",
    "            for j in range(n_col_B):\n",
    "                for k in range(n_col_A):\n",
    "                    C[i][j] += A[i][k] * B [k][j]\n",
    "        return C\n",
    "        "
   ]
  },
  {
   "cell_type": "code",
   "execution_count": 7,
   "id": "09b58cb3-9f1c-4c55-88d3-9508944767c4",
   "metadata": {},
   "outputs": [],
   "source": [
    "def par_mult(A,B):\n",
    "    n_cores = mp.cpu_count()\n",
    "    size_col = math.ceil(n_col_B/n_cores)\n",
    "    size_fil = math.ceil(n_fil_A/n_cores)\n",
    "    MC = mp.RawArray('i', n_fil_A * n_col_B)\n",
    "    cores = []\n",
    "    for core in range (n_cores):\n",
    "        i_MC = min(core * size_fil, n_fil_A)\n",
    "        f_MC = min ((core +1) +size_fil, n_fil_A)\n",
    "        cores.append(mp.Process(target=par_core, args=(A, B, MC, i_MC, f_MC)))\n",
    "    for core in cores:\n",
    "        core.start()\n",
    "    for core in cores:\n",
    "        core.join()\n",
    "    C_2D = [[0] * n_col_B for i in range (n_fil_A)]\n",
    "    for i in range (n_fil_A):\n",
    "        for i in range (n_col_B):\n",
    "            C_2D[i][j] = MC [i*n_col_B + j]\n",
    "    return C_2D"
   ]
  },
  {
   "cell_type": "code",
   "execution_count": 8,
   "id": "2ab4e4da-9a1a-4b46-9909-355b0542e597",
   "metadata": {},
   "outputs": [],
   "source": [
    "def par_core (A, B, MC, i_MC, f_MC):\n",
    "    for i in range (i_MC, f_MC):\n",
    "        for j in range (len(B[0])):\n",
    "            for k in range(len(A[0])):\n",
    "                MC[i*len(B[0]) + j] += A [i][k] * B[k][j]"
   ]
  },
  {
   "cell_type": "code",
   "execution_count": 9,
   "id": "696b7435-21b8-49f1-a947-55a46255485a",
   "metadata": {},
   "outputs": [
    {
     "ename": "KeyboardInterrupt",
     "evalue": "",
     "output_type": "error",
     "traceback": [
      "\u001b[1;31m---------------------------------------------------------------------------\u001b[0m",
      "\u001b[1;31mKeyboardInterrupt\u001b[0m                         Traceback (most recent call last)",
      "Cell \u001b[1;32mIn [9], line 10\u001b[0m\n\u001b[0;32m      8\u001b[0m \u001b[38;5;28;01mif\u001b[39;00m n_col_A \u001b[38;5;241m!=\u001b[39m n_fil_B: \u001b[38;5;28;01mraise\u001b[39;00m \u001b[38;5;167;01mException\u001b[39;00m(\u001b[38;5;124m'\u001b[39m\u001b[38;5;124mDimensiones no validas\u001b[39m\u001b[38;5;124m'\u001b[39m)\n\u001b[0;32m      9\u001b[0m inicioS \u001b[38;5;241m=\u001b[39m time\u001b[38;5;241m.\u001b[39mtime()\n\u001b[1;32m---> 10\u001b[0m sec_mult(A,B)\n\u001b[0;32m     11\u001b[0m finS \u001b[38;5;241m=\u001b[39m time\u001b[38;5;241m.\u001b[39mtime()\n\u001b[0;32m     12\u001b[0m inicioP \u001b[38;5;241m=\u001b[39m time\u001b[38;5;241m.\u001b[39mtime()\n",
      "Cell \u001b[1;32mIn [6], line 2\u001b[0m, in \u001b[0;36msec_mult\u001b[1;34m(A, B)\u001b[0m\n\u001b[0;32m      1\u001b[0m \u001b[38;5;28;01mdef\u001b[39;00m \u001b[38;5;21msec_mult\u001b[39m(A, B):\n\u001b[1;32m----> 2\u001b[0m         C \u001b[38;5;241m=\u001b[39m [[\u001b[38;5;241m0\u001b[39m] \u001b[38;5;241m*\u001b[39m n_col_B \u001b[38;5;28;01mfor\u001b[39;00m i \u001b[38;5;129;01min\u001b[39;00m \u001b[38;5;28mrange\u001b[39m(n_fil_A)]\n\u001b[0;32m      3\u001b[0m         \u001b[38;5;28;01mfor\u001b[39;00m i \u001b[38;5;129;01min\u001b[39;00m \u001b[38;5;28mrange\u001b[39m(n_fil_A):\n\u001b[0;32m      4\u001b[0m             \u001b[38;5;28;01mfor\u001b[39;00m j \u001b[38;5;129;01min\u001b[39;00m \u001b[38;5;28mrange\u001b[39m(n_col_B):\n",
      "Cell \u001b[1;32mIn [6], line 2\u001b[0m, in \u001b[0;36m<listcomp>\u001b[1;34m(.0)\u001b[0m\n\u001b[0;32m      1\u001b[0m \u001b[38;5;28;01mdef\u001b[39;00m \u001b[38;5;21msec_mult\u001b[39m(A, B):\n\u001b[1;32m----> 2\u001b[0m         C \u001b[38;5;241m=\u001b[39m [[\u001b[38;5;241m0\u001b[39m] \u001b[38;5;241m*\u001b[39m n_col_B \u001b[38;5;28;01mfor\u001b[39;00m i \u001b[38;5;129;01min\u001b[39;00m \u001b[38;5;28mrange\u001b[39m(n_fil_A)]\n\u001b[0;32m      3\u001b[0m         \u001b[38;5;28;01mfor\u001b[39;00m i \u001b[38;5;129;01min\u001b[39;00m \u001b[38;5;28mrange\u001b[39m(n_fil_A):\n\u001b[0;32m      4\u001b[0m             \u001b[38;5;28;01mfor\u001b[39;00m j \u001b[38;5;129;01min\u001b[39;00m \u001b[38;5;28mrange\u001b[39m(n_col_B):\n",
      "\u001b[1;31mKeyboardInterrupt\u001b[0m: "
     ]
    }
   ],
   "source": [
    "if __name__ == '__main__':\n",
    "    A = [[random.randint(0,215) for i in range (6)] for j in range(22163756)]\n",
    "    B = [[random.randint(0,215) for i in range (200)] for j in range (6)]\n",
    "    n_fil_A = len (A)\n",
    "    n_col_A = len (A[0])\n",
    "    n_fil_B = len (B)\n",
    "    n_col_B = len(B[0])\n",
    "    if n_col_A != n_fil_B: raise Exception('Dimensiones no validas')\n",
    "    inicioS = time.time()\n",
    "    sec_mult(A,B)\n",
    "    finS = time.time()\n",
    "    inicioP = time.time()\n",
    "    par_mult(A,B)\n",
    "    finP = time.time()\n",
    "    print('\\nMatriz A y B se han multiplicado con exisito en SECUENCIAL ha tardado', finS-inicioS, 'y en PARALELO', finP-inicioP)"
   ]
  },
  {
   "cell_type": "code",
   "execution_count": null,
   "id": "ba26b16e-2861-405a-9e31-f7a5f62345c4",
   "metadata": {},
   "outputs": [],
   "source": []
  }
 ],
 "metadata": {
  "kernelspec": {
   "display_name": "Python 3 (ipykernel)",
   "language": "python",
   "name": "python3"
  },
  "language_info": {
   "codemirror_mode": {
    "name": "ipython",
    "version": 3
   },
   "file_extension": ".py",
   "mimetype": "text/x-python",
   "name": "python",
   "nbconvert_exporter": "python",
   "pygments_lexer": "ipython3",
   "version": "3.10.7"
  }
 },
 "nbformat": 4,
 "nbformat_minor": 5
}
